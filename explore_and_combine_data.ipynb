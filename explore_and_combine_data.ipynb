{
 "cells": [
  {
   "cell_type": "code",
   "execution_count": 1,
   "metadata": {},
   "outputs": [],
   "source": [
    "import pandas as pd"
   ]
  },
  {
   "cell_type": "code",
   "execution_count": 2,
   "metadata": {},
   "outputs": [],
   "source": [
    "cal = pd.read_csv('calendar.csv')\n",
    "lis = pd.read_csv('listings.csv')\n",
    "rev = pd.read_csv('reviews.csv')"
   ]
  },
  {
   "cell_type": "code",
   "execution_count": 15,
   "metadata": {},
   "outputs": [],
   "source": [
    "# helper function to put every row in a column into a single list, one list for each column\n",
    "\n",
    "def unique_id_df_rev(id):\n",
    "    current = rev[rev['listing_id'] == id]\n",
    "\n",
    "    columns = list(rev.columns)\n",
    "    columns.pop(0)\n",
    "\n",
    "    return [list(current[col].values) for col in columns]\n",
    "\n",
    "# example\n",
    "\n",
    "# unique_id_df(1419, rev)\n",
    "\n",
    "# quick and dirty to get map working with different df\n",
    "def unique_id_df_cal(id):\n",
    "    current = cal[cal['listing_id'] == id]\n",
    "\n",
    "    columns = list(cal.columns)\n",
    "    columns.pop(0)\n",
    "\n",
    "    return [list(current[col].values) for col in columns]"
   ]
  },
  {
   "cell_type": "code",
   "execution_count": 18,
   "metadata": {},
   "outputs": [],
   "source": [
    "rev_uni_list_id = list(rev['listing_id'].unique())\n",
    "rev_total_content = list(map(unique_id_df_rev, rev_uni_list_id))\n",
    "\n",
    "cal_uni_list_id = list(cal['listing_id'].unique())\n",
    "cal_total_content = list(map(unique_id_df_cal, cal_uni_list_id))"
   ]
  },
  {
   "cell_type": "code",
   "execution_count": 20,
   "metadata": {},
   "outputs": [
    {
     "data": {
      "text/plain": [
       "'listing_id'"
      ]
     },
     "execution_count": 20,
     "metadata": {},
     "output_type": "execute_result"
    }
   ],
   "source": [
    "rev_old_columns = list(rev.columns)\n",
    "rev_old_columns.pop(0)\n",
    "\n",
    "cal_old_columns = list(cal.columns)\n",
    "cal_old_columns.pop(0)"
   ]
  },
  {
   "cell_type": "code",
   "execution_count": 21,
   "metadata": {},
   "outputs": [],
   "source": [
    "rev_df = pd.DataFrame(rev_total_content, columns=rev_old_columns)\n",
    "rev_df['listing_id'] = rev_uni_list_id\n",
    "\n",
    "cal_df = pd.DataFrame(cal_total_content, columns=cal_old_columns)\n",
    "cal_df['listing_id'] = cal_uni_list_id"
   ]
  },
  {
   "cell_type": "code",
   "execution_count": 37,
   "metadata": {},
   "outputs": [],
   "source": [
    "lis.rename(columns={'id': 'listing_id'},inplace=True)\n",
    "new1 = lis.merge(cal_df, how= 'left', on=['listing_id'])\n",
    "final_df = new1.merge(rev_df, how= 'left', on=['listing_id'])"
   ]
  },
  {
   "cell_type": "code",
   "execution_count": 41,
   "metadata": {},
   "outputs": [],
   "source": [
    "final_df.to_csv('airbnb_toronto.csv')"
   ]
  }
 ],
 "metadata": {
  "kernelspec": {
   "display_name": "Python 3",
   "language": "python",
   "name": "python3"
  },
  "language_info": {
   "codemirror_mode": {
    "name": "ipython",
    "version": 3
   },
   "file_extension": ".py",
   "mimetype": "text/x-python",
   "name": "python",
   "nbconvert_exporter": "python",
   "pygments_lexer": "ipython3",
   "version": "3.11.3"
  },
  "orig_nbformat": 4
 },
 "nbformat": 4,
 "nbformat_minor": 2
}
